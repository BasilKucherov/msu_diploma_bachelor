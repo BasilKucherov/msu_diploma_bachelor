{
 "cells": [
  {
   "cell_type": "markdown",
   "metadata": {},
   "source": [
    "# RESULT CLASSES"
   ]
  },
  {
   "cell_type": "code",
   "execution_count": 1,
   "metadata": {},
   "outputs": [],
   "source": [
    "SPEECH_COMMANDS_TRAIN_25CS_1250SPC_CLASSES = [\"zero\",  \"one\", \"two\", \"three\", \"four\", \"five\", \"six\", \"seven\", \"eight\", \"nine\", \"cat\", \"dog\", \"bird\", \"marvin\", \"sheila\", \"wow\", \"backward\", \"forward\", \"tree\", \"bed\", \"follow\", \"house\", \"happy\", \"learn\", \"visual\"]\n",
    "SPEECH_COMMANDS_FSL_CLASSES: list[str] = [\"on\", \"off\", \"up\", \"down\", \"right\", \"left\", \"yes\", \"no\", \"go\", \"stop\"]\n",
    "\n",
    "MSWC_RU_TRAIN_50CS_500SPC_CLASSES = [\"международного\", \"представитель\", \"безопасности\", \"объединенных\", \"конференции\", \"организации\", \"разоружению\", \"необходимо\", \"государств\", \"благодарю\", \"резолюции\", \"заявление\", \"является\", \"человека\", \"поэтому\", \"сегодня\", \"которые\", \"должны\", \"сейчас\", \"однако\", \"усилия\", \"совета\", \"теперь\", \"только\", \"работы\", \"страны\", \"также\", \"слово\", \"этого\", \"будет\", \"имеет\", \"наций\", \"чтобы\", \"очень\", \"хотел\", \"может\", \"время\", \"более\", \"нашей\", \"этой\", \"этом\", \"этот\", \"было\", \"быть\", \"всех\", \"того\", \"этих\", \"мира\", \"есть\", \"наша\"]\n",
    "MSWC_EN_TRAIN_100CS_500SPC_CLASSES = [\"was\", \"and\", \"you\", \"are\", \"his\", \"for\", \"had\", \"not\", \"but\", \"all\", \"boy\", \"that\", \"this\", \"have\", \"what\", \"they\", \"from\", \"were\", \"also\", \"said\", \"with\", \"your\", \"there\", \"about\", \"their\", \"first\", \"after\", \"other\", \"would\", \"these\", \"could\", \"never\", \"going\", \"people\", \"before\", \"school\", \"little\", \"called\", \"should\", \"during\", \"became\", \"better\", \"always\", \"around\", \"thought\", \"through\", \"however\", \"because\", \"another\", \"several\", \"nothing\", \"between\", \"located\", \"without\", \"himself\", \"anything\", \"children\", \"language\", \"everyone\", \"answered\", \"national\", \"appeared\", \"building\", \"together\", \"returned\", \"american\", \"alchemist\", \"something\", \"different\", \"important\", \"following\", \"sometimes\", \"continued\", \"currently\", \"community\", \"available\", \"president\", \"everything\", \"university\", \"englishman\", \"understand\", \"government\", \"throughout\", \"considered\", \"eventually\", \"understood\", \"television\", \"production\", \"information\", \"development\", \"immediately\", \"independent\", \"performance\", \"established\", \"surrounding\", \"traditional\", \"instruments\", \"significant\", \"application\", \"professional\"]\n",
    "MSWC_EN_TRAIN_500CS_100SPC_CLASSES = [\"was\", \"and\", \"you\", \"are\", \"his\", \"for\", \"had\", \"not\", \"but\", \"all\", \"boy\", \"can\", \"him\", \"out\", \"its\", \"the\", \"her\", \"how\", \"man\", \"did\", \"now\", \"she\", \"new\", \"get\", \"who\", \"see\", \"old\", \"day\", \"got\", \"way\", \"why\", \"has\", \"may\", \"too\", \"say\", \"our\", \"use\", \"saw\", \"men\", \"war\", \"own\", \"let\", \"few\", \"end\", \"red\", \"sun\", \"put\", \"set\", \"son\", \"air\", \"that\", \"this\", \"have\", \"what\", \"they\", \"from\", \"were\", \"also\", \"said\", \"with\", \"your\", \"will\", \"some\", \"when\", \"time\", \"been\", \"know\", \"like\", \"then\", \"more\", \"just\", \"many\", \"only\", \"them\", \"want\", \"used\", \"here\", \"over\", \"very\", \"most\", \"than\", \"good\", \"made\", \"into\", \"back\", \"name\", \"work\", \"city\", \"both\", \"much\", \"make\", \"come\", \"find\", \"came\", \"year\", \"went\", \"town\", \"part\", \"life\", \"must\", \"there\", \"about\", \"their\", \"first\", \"after\", \"other\", \"would\", \"these\", \"could\", \"never\", \"going\", \"where\", \"think\", \"still\", \"found\", \"which\", \"known\", \"years\", \"world\", \"asked\", \"while\", \"again\", \"those\", \"night\", \"often\", \"began\", \"named\", \"water\", \"woman\", \"small\", \"music\", \"every\", \"under\", \"heart\", \"young\", \"great\", \"large\", \"thing\", \"being\", \"money\", \"today\", \"might\", \"group\", \"south\", \"river\", \"north\", \"early\", \"state\", \"since\", \"white\", \"people\", \"before\", \"school\", \"little\", \"called\", \"should\", \"during\", \"became\", \"better\", \"always\", \"around\", \"things\", \"desert\", \"really\", \"please\", \"county\", \"second\", \"looked\", \"family\", \"number\", \"seemed\", \"wanted\", \"father\", \"public\", \"become\", \"played\", \"system\", \"within\", \"almost\", \"street\", \"served\", \"office\", \"united\", \"matter\", \"friend\", \"twenty\", \"mother\", \"others\", \"states\", \"person\", \"common\", \"passed\", \"church\", \"series\", \"across\", \"single\", \"turned\", \"behind\", \"course\", \"member\", \"thought\", \"through\", \"however\", \"because\", \"another\", \"several\", \"nothing\", \"between\", \"located\", \"without\", \"himself\", \"station\", \"already\", \"looking\", \"include\", \"company\", \"morning\", \"college\", \"playing\", \"written\", \"against\", \"decided\", \"village\", \"married\", \"popular\", \"usually\", \"hundred\", \"believe\", \"general\", \"started\", \"english\", \"brought\", \"running\", \"history\", \"service\", \"quickly\", \"working\", \"country\", \"outside\", \"crystal\", \"members\", \"talking\", \"present\", \"brother\", \"railway\", \"various\", \"covered\", \"getting\", \"wearing\", \"problem\", \"anything\", \"children\", \"language\", \"everyone\", \"answered\", \"national\", \"appeared\", \"building\", \"together\", \"returned\", \"american\", \"treasure\", \"business\", \"included\", \"received\", \"merchant\", \"movement\", \"remember\", \"daughter\", \"suddenly\", \"original\", \"released\", \"football\", \"produced\", \"students\", \"tomorrow\", \"features\", \"cylinder\", \"standing\", \"research\", \"possible\", \"provided\", \"remained\", \"distance\", \"includes\", \"attended\", \"happened\", \"position\", \"computer\", \"although\", \"probably\", \"contains\", \"services\", \"speaking\", \"actually\", \"military\", \"internet\", \"followed\", \"thousand\", \"thinking\", \"alchemist\", \"something\", \"different\", \"important\", \"following\", \"sometimes\", \"continued\", \"currently\", \"community\", \"available\", \"president\", \"including\", \"difficult\", \"generally\", \"published\", \"described\", \"education\", \"political\", \"developed\", \"henderson\", \"character\", \"direction\", \"according\", \"buildings\", \"beautiful\", \"yesterday\", \"languages\", \"performed\", \"afternoon\", \"somewhere\", \"surprised\", \"countries\", \"newspaper\", \"typically\", \"australia\", \"therefore\", \"everybody\", \"beginning\", \"certainly\", \"telescope\", \"structure\", \"contained\", \"extremely\", \"christmas\", \"continues\", \"primarily\", \"attention\", \"connected\", \"companies\", \"increased\", \"everything\", \"university\", \"englishman\", \"understand\", \"government\", \"throughout\", \"considered\", \"eventually\", \"understood\", \"television\", \"production\", \"california\", \"population\", \"originally\", \"experience\", \"themselves\", \"especially\", \"successful\", \"completely\", \"appearance\", \"department\", \"remembered\", \"commercial\", \"approached\", \"difference\", \"restaurant\", \"characters\", \"interested\", \"atmosphere\", \"collection\", \"activities\", \"previously\", \"particular\", \"technology\", \"frequently\", \"washington\", \"associated\", \"historical\", \"additional\", \"impossible\", \"management\", \"connection\", \"apparently\", \"individual\", \"industrial\", \"absolutely\", \"introduced\", \"increasing\", \"expression\", \"surrounded\", \"information\", \"development\", \"immediately\", \"independent\", \"performance\", \"established\", \"surrounding\", \"traditional\", \"instruments\", \"significant\", \"application\", \"responsible\", \"programming\", \"association\", \"temperature\", \"competition\", \"represented\", \"alternative\", \"environment\", \"communities\", \"translation\", \"concentrate\", \"constructed\", \"grandfather\", \"engineering\", \"interrupted\", \"agriculture\", \"complicated\", \"interesting\", \"disappeared\", \"transformed\", \"residential\", \"possibility\", \"contributed\", \"statistical\", \"recommended\", \"authorities\", \"experienced\", \"participate\", \"distributed\", \"composition\", \"corporation\", \"combination\", \"individuals\", \"appearances\", \"reservation\", \"inhabitants\", \"observation\", \"controversy\", \"connections\", \"professional\", \"construction\", \"subsequently\", \"disappointed\", \"particularly\", \"conversation\", \"headquarters\", \"relationship\", \"specifically\", \"organization\", \"difficulties\", \"occasionally\", \"metropolitan\", \"conservative\", \"neighborhood\", \"contemporary\", \"championship\", \"distribution\", \"pennsylvania\", \"municipality\", \"independence\", \"extinguished\", \"agricultural\", \"additionally\", \"applications\", \"unsuccessful\", \"intelligence\", \"incorporated\", \"successfully\", \"architecture\", \"historically\", \"instrumental\", \"nevertheless\", \"considerable\", \"requirements\", \"experiencing\", \"commercially\", \"performances\", \"mathematical\", \"constitution\", \"universities\", \"instructions\", \"increasingly\", \"organisation\", \"philadelphia\", \"strawberries\", \"consequently\", \"participated\", \"participants\", \"registration\"]\n",
    "\n",
    "MSWC_RU_FSL_CLASSES = [\"вперед\", \"назад\", \"принять\", \"пожалуйста\", \"спасибо\", \"хорошо\", \"всегда\", \"внимание\", \"продолжать\", \"больше\"]\n",
    "MSWC_EN_FSL_CLASSES = [\"open\", \"close\", \"wait\", \"save\", \"resume\", \"exit\", \"accept\", \"search\", \"start\", \"listen\"]\n",
    "\n",
    "# check length\n",
    "assert(len(set(SPEECH_COMMANDS_TRAIN_25CS_1250SPC_CLASSES)) == 25)\n",
    "assert(len(set(MSWC_RU_TRAIN_50CS_500SPC_CLASSES)) == 50)\n",
    "assert(len(set(MSWC_EN_TRAIN_100CS_500SPC_CLASSES)) == 100)\n",
    "assert(len(set(MSWC_EN_TRAIN_500CS_100SPC_CLASSES)) == 500)\n",
    "\n",
    "# check fsl len\n",
    "assert(len(set(SPEECH_COMMANDS_FSL_CLASSES)) == 10)\n",
    "assert(len(set(MSWC_RU_FSL_CLASSES)) == 10)\n",
    "assert(len(set(MSWC_EN_FSL_CLASSES)) == 10)\n",
    "\n",
    "# check intersections of classes\n",
    "assert(len(set(SPEECH_COMMANDS_FSL_CLASSES) & set(MSWC_EN_FSL_CLASSES)) == 0)\n",
    "\n",
    "assert(len(set(MSWC_EN_FSL_CLASSES) & set(SPEECH_COMMANDS_TRAIN_25CS_1250SPC_CLASSES)) == 0)\n",
    "assert(len(set(MSWC_EN_FSL_CLASSES) & set(MSWC_EN_TRAIN_100CS_500SPC_CLASSES)) == 0)\n",
    "assert(len(set(MSWC_EN_FSL_CLASSES) & set(MSWC_EN_TRAIN_500CS_100SPC_CLASSES)) == 0)\n",
    "\n",
    "assert(len(set(SPEECH_COMMANDS_FSL_CLASSES) & set(SPEECH_COMMANDS_TRAIN_25CS_1250SPC_CLASSES)) == 0)\n",
    "assert(len(set(SPEECH_COMMANDS_FSL_CLASSES) & set(MSWC_EN_TRAIN_100CS_500SPC_CLASSES)) == 0)\n",
    "assert(len(set(SPEECH_COMMANDS_FSL_CLASSES) & set(MSWC_EN_TRAIN_500CS_100SPC_CLASSES)) == 0)\n",
    "\n",
    "assert(len(set(MSWC_RU_FSL_CLASSES) & set(MSWC_RU_TRAIN_50CS_500SPC_CLASSES)) == 0)"
   ]
  },
  {
   "cell_type": "markdown",
   "metadata": {},
   "source": [
    "# SPEECH COMMANDS"
   ]
  },
  {
   "cell_type": "code",
   "execution_count": 5,
   "metadata": {},
   "outputs": [],
   "source": [
    "import os\n",
    "import pandas as pd\n",
    "\n",
    "SPEECH_COMMANDS_PATH = \"/path/to/speech/commands\"\n",
    "SPEECH_COMMANDS_TEST_SPLIT = \"testing_list.txt\"\n",
    "SPEECH_COMMANDS_VALIDATION_SPLIT = \"validation_list.txt\"\n",
    "\n",
    "def is_class_dir(path: str) -> bool:\n",
    "    return os.path.isdir(path) and not path.split(\"/\")[-1].startswith(\"_\")\n",
    "\n",
    "\n",
    "def is_wav_file(path: str) -> bool:\n",
    "    return os.path.isfile(path) and path.endswith(\".wav\")\n",
    "\n",
    "\n",
    "def get_all_links(dataset_path: str) -> pd.DataFrame:\n",
    "    result = {\n",
    "        \"LINK\": [],\n",
    "        \"WORD\": [],\n",
    "    }\n",
    "\n",
    "    for item in os.listdir(dataset_path):\n",
    "        item_path = os.path.join(dataset_path, item)\n",
    "        if is_class_dir(item_path):\n",
    "            cur_class = item_path.split(\"/\")[-1]\n",
    "            \n",
    "            for f in os.listdir(item_path):\n",
    "                f_path = os.path.join(item_path, f)\n",
    "                if is_wav_file(f_path):\n",
    "                    result[\"LINK\"].append(os.path.join(cur_class, f))\n",
    "                    result[\"WORD\"].append(cur_class)\n",
    "    \n",
    "    return pd.DataFrame(result)\n",
    "\n",
    "\n",
    "def load_file_lines(path: str) -> list[str]:\n",
    "    with open(path, \"r\") as fp:\n",
    "        lines = fp.read().splitlines()\n",
    "    \n",
    "    return lines\n",
    "\n",
    "\n",
    "def get_original_split(dataset_path: str, test_split: str, validation_split: str):\n",
    "    df = get_all_links(dataset_path)\n",
    "\n",
    "    test_links = load_file_lines(os.path.join(dataset_path, test_split))\n",
    "    validation_links = load_file_lines(os.path.join(dataset_path, validation_split))\n",
    "\n",
    "    df['SET'] = df.apply(lambda row: \"TEST\" if row.LINK in test_links else (\"VALID\" if row.LINK in validation_links else \"TRAIN\"), axis=1)\n",
    "    return df"
   ]
  },
  {
   "cell_type": "code",
   "execution_count": 6,
   "metadata": {},
   "outputs": [],
   "source": [
    "speech_commands_df = get_original_split(SPEECH_COMMANDS_PATH, SPEECH_COMMANDS_TEST_SPLIT, SPEECH_COMMANDS_VALIDATION_SPLIT)\n",
    "speech_commands_counts_df = speech_commands_df.groupby(['WORD', 'SET']).size().unstack(fill_value=0)[[\"TRAIN\", \"TEST\", \"VALID\"]]"
   ]
  },
  {
   "cell_type": "code",
   "execution_count": 7,
   "metadata": {},
   "outputs": [],
   "source": [
    "SPEECH_COMMANDS_TRAIN_CLASSES = [\"zero\",  \"one\", \"two\", \"three\", \"four\", \"five\", \"six\", \"seven\", \"eight\", \"nine\", \"cat\", \"dog\", \"bird\", \"marvin\", \"sheila\", \"wow\", \"backward\", \"forward\", \"tree\", \"bed\", \"follow\", \"house\", \"happy\", \"learn\", \"visual\"]\n",
    "SPEECH_COMMANDS_FSL_CLASSES: list[str] = [\"on\", \"off\", \"up\", \"down\", \"right\", \"left\", \"yes\", \"no\", \"go\", \"stop\"]\n",
    "\n",
    "assert(len(set(SPEECH_COMMANDS_TRAIN_CLASSES)) == 25)\n",
    "assert(len(set(SPEECH_COMMANDS_FSL_CLASSES)) == 10)\n",
    "assert(len(set(SPEECH_COMMANDS_TRAIN_CLASSES) & set(SPEECH_COMMANDS_FSL_CLASSES)) == 0)"
   ]
  },
  {
   "cell_type": "code",
   "execution_count": 8,
   "metadata": {},
   "outputs": [
    {
     "name": "stdout",
     "output_type": "stream",
     "text": [
      "speech commands TRAIN min sapmles per class available: 1256\n",
      "speech commands VALID min sapmles per class available: 128\n",
      "speech commands TEST min sapmles per class available: 155\n",
      "speech commands FSL TEST min sapmles per class available: 396\n"
     ]
    }
   ],
   "source": [
    "print(f\"speech commands TRAIN min sapmles per class available: {speech_commands_counts_df.loc[SPEECH_COMMANDS_TRAIN_CLASSES]['TRAIN'].min()}\")\n",
    "print(f\"speech commands VALID min sapmles per class available: {speech_commands_counts_df.loc[SPEECH_COMMANDS_TRAIN_CLASSES]['VALID'].min()}\")\n",
    "print(f\"speech commands TEST min sapmles per class available: {speech_commands_counts_df.loc[SPEECH_COMMANDS_TRAIN_CLASSES]['TEST'].min()}\")\n",
    "print(f\"speech commands FSL TEST min sapmles per class available: {speech_commands_counts_df.loc[SPEECH_COMMANDS_FSL_CLASSES]['TEST'].min()}\")"
   ]
  },
  {
   "cell_type": "markdown",
   "metadata": {},
   "source": [
    "# MSWC"
   ]
  },
  {
   "cell_type": "code",
   "execution_count": 9,
   "metadata": {},
   "outputs": [],
   "source": [
    "MSWC_PATH = \"/path/to/mswc\"\n",
    "\n",
    "MSWC_RU_SPLIT_PATH = os.path.join(MSWC_PATH, \"splits\", \"ru_splits.csv\")\n",
    "MSWC_EN_SPLIT_PATH = os.path.join(MSWC_PATH, \"splits\", \"en_splits.csv\")\n",
    "\n",
    "mswc_ru_split = pd.read_csv(MSWC_RU_SPLIT_PATH)\n",
    "mswc_en_split = pd.read_csv(MSWC_EN_SPLIT_PATH)\n",
    "\n",
    "ru_word_counts = mswc_ru_split.groupby(['WORD', 'SET']).size().unstack(fill_value=0)[[\"TRAIN\", \"TEST\", \"DEV\"]]\n",
    "ru_word_counts = ru_word_counts.reset_index()\n",
    "ru_word_counts.columns.name = None  # Remove the column name\n",
    "ru_word_counts.columns = ['WORD', 'TRAIN', 'TEST', 'DEV']\n",
    "ru_word_counts = ru_word_counts.set_index(\"WORD\")\n",
    "ru_word_counts[\"TESTABLE\"] = ru_word_counts[\"TEST\"] + ru_word_counts[\"DEV\"]\n",
    "\n",
    "en_word_counts = mswc_en_split.groupby(['WORD', 'SET']).size().unstack(fill_value=0)[[\"TRAIN\", \"TEST\", \"DEV\"]]\n",
    "en_word_counts = en_word_counts.reset_index()\n",
    "en_word_counts.columns.name = None  # Remove the column name\n",
    "en_word_counts.columns = ['WORD', 'TRAIN', 'TEST', 'DEV']\n",
    "en_word_counts = en_word_counts.set_index(\"WORD\")\n",
    "en_word_counts[\"TESTABLE\"] = en_word_counts[\"TEST\"] + en_word_counts[\"DEV\"]"
   ]
  },
  {
   "cell_type": "code",
   "execution_count": 187,
   "metadata": {},
   "outputs": [],
   "source": [
    "MSWC_EN_FSL_CANDIDATES = [\"start\", \"stop\", \"go\", \"turn\", \"left\", \"right\", \"move\", \"forward\", \"backward\", \"pause\", \"resume\", \"repeat\", \"faster\", \"slower\", \"wait\", \"listen\", \"speak\", \"jump\", \"skip\", \"select\", \"edit\", \"save\", \"cancel\", \"undo\", \"redo\", \"search\", \"enter\", \"exit\", \"add\", \"remove\", \"create\", \"delete\", \"confirm\", \"decline\", \"accept\", \"enable\", \"disable\", \"connect\", \"disconnect\", \"open\", \"close\", \"upload\", \"download\", \"install\", \"uninstall\", \"update\", \"restart\", \"shutdown\", \"refresh\", \"load\"]\n",
    "MSWC_RU_FSL_CANDIDATES: list[str] = [\"пуск\", \"остановка\", \"движение\", \"поворот\", \"влево\", \"вправо\", \"перемещение\", \"вперед\", \"назад\", \"пауза\", \"возобновление\", \"повтор\", \"быстрее\", \"медленнее\", \"ожидание\", \"слушать\", \"говорить\", \"переходить\", \"пропускать\", \"выбирать\", \"редактировать\", \"сохранять\", \"отменять\", \"повторять\", \"искать\", \"вводить\", \"выходить\", \"добавлять\", \"удалять\", \"создать\", \"удалить\", \"подтвердить\", \"отклонить\", \"принять\", \"включить\", \"подключить\", \"отключить\", \"открыть\", \"закрыть\", \"загрузить\", \"скачать\", \"установить\", \"обновить\", \"перезагрузить\", \"завершить работу\"]"
   ]
  },
  {
   "cell_type": "code",
   "execution_count": 54,
   "metadata": {},
   "outputs": [],
   "source": [
    "from pandas import DataFrame\n",
    "\n",
    "en_candidates_filtered = []\n",
    "\n",
    "for word in set(MSWC_EN_FSL_CANDIDATES):\n",
    "    if word in en_word_counts.index and word not in SPEECH_COMMANDS_FSL_CLASSES and word not in SPEECH_COMMANDS_TRAIN_CLASSES:\n",
    "        en_candidates_filtered.append(word)\n",
    "\n",
    "# en_word_counts.loc[en_candidates_filtered]"
   ]
  },
  {
   "cell_type": "code",
   "execution_count": 55,
   "metadata": {},
   "outputs": [],
   "source": [
    "ru_candidates_filtered = []\n",
    "for word in set(MSWC_RU_FSL_CANDIDATES):\n",
    "    if word in ru_word_counts.index:\n",
    "        ru_candidates_filtered.append(word)\n",
    "\n",
    "# ru_word_counts.loc[ru_candidates_filtered]"
   ]
  },
  {
   "cell_type": "code",
   "execution_count": 10,
   "metadata": {},
   "outputs": [
    {
     "name": "stdout",
     "output_type": "stream",
     "text": [
      "MSWC RU FSL CLASSES: 10\n",
      "MSWC RU FSL TEST SAMPLES PER CLASS: 28\n",
      "MSWC EN FSL CLASSES: 10\n",
      "MSWC EN FSL TEST SAMPLES PER CLASS: 50\n"
     ]
    }
   ],
   "source": [
    "MSWC_RU_FSL_CLASSES = [\"вперед\", \"назад\", \"принять\", \"пожалуйста\", \"спасибо\", \"хорошо\", \"всегда\", \"внимание\", \"продолжать\", \"больше\"]\n",
    "fsl_test_size = ru_word_counts.loc[MSWC_RU_FSL_CLASSES][\"TESTABLE\"].min()\n",
    "print(f\"MSWC RU FSL CLASSES: {len(set(MSWC_RU_FSL_CLASSES))}\")\n",
    "print(f\"MSWC RU FSL TEST SAMPLES PER CLASS: {fsl_test_size}\")\n",
    "\n",
    "MSWC_EN_FSL_CLASSES = [\"open\", \"close\", \"wait\", \"save\", \"resume\", \"exit\", \"accept\", \"search\", \"start\", \"listen\"]\n",
    "fsl_test_size = en_word_counts.loc[MSWC_EN_FSL_CLASSES][\"TESTABLE\"].min()\n",
    "print(f\"MSWC EN FSL CLASSES: {len(set(MSWC_EN_FSL_CLASSES))}\")\n",
    "print(f\"MSWC EN FSL TEST SAMPLES PER CLASS: {fsl_test_size}\")"
   ]
  },
  {
   "cell_type": "markdown",
   "metadata": {},
   "source": [
    "## Choice of train words"
   ]
  },
  {
   "cell_type": "code",
   "execution_count": 149,
   "metadata": {},
   "outputs": [],
   "source": [
    "ru_used = MSWC_RU_FSL_CLASSES\n",
    "en_used = SPEECH_COMMANDS_TRAIN_CLASSES + SPEECH_COMMANDS_FSL_CLASSES + MSWC_EN_FSL_CLASSES"
   ]
  },
  {
   "cell_type": "code",
   "execution_count": 178,
   "metadata": {},
   "outputs": [
    {
     "name": "stdout",
     "output_type": "stream",
     "text": [
      "['международного', 'представитель', 'безопасности', 'объединенных', 'конференции', 'организации', 'разоружению', 'необходимо', 'государств', 'благодарю', 'резолюции', 'заявление', 'является', 'человека', 'поэтому', 'сегодня', 'которые', 'должны', 'сейчас', 'однако', 'усилия', 'совета', 'теперь', 'только', 'работы', 'страны', 'также', 'слово', 'этого', 'будет', 'имеет', 'наций', 'чтобы', 'очень', 'хотел', 'может', 'время', 'более', 'нашей', 'этой', 'этом', 'этот', 'было', 'быть', 'всех', 'того', 'этих', 'мира', 'есть', 'наша']\n"
     ]
    }
   ],
   "source": [
    "mswc_ru_train_candidates = list(ru_word_counts[~ru_word_counts.index.isin(ru_used)].sort_values(\"TRAIN\", ascending=False).head(73).index)\n",
    "mswc_ru_train_50cs_500spc = sorted(mswc_ru_train_candidates, key=len, reverse=True)[:50]\n",
    "print(mswc_ru_train_50cs_500spc)"
   ]
  },
  {
   "cell_type": "code",
   "execution_count": 177,
   "metadata": {},
   "outputs": [
    {
     "name": "stdout",
     "output_type": "stream",
     "text": [
      "Words with length 3: ['was', 'and', 'you', 'are', 'his', 'for', 'had', 'not', 'but', 'all', 'boy', 'can', 'him', 'out', 'its', 'the', 'her', 'how', 'man', 'did', 'now', 'she', 'new', 'get', 'who', 'see', 'old', 'day', 'got', 'way', 'why', 'has', 'may', 'too', 'say', 'our', 'use', 'saw', 'men', 'war', 'own', 'let', 'few', 'end', 'red', 'sun', 'put', 'set', 'son', 'air']\n",
      "Words with length 4: ['that', 'this', 'have', 'what', 'they', 'from', 'were', 'also', 'said', 'with', 'your', 'will', 'some', 'when', 'time', 'been', 'know', 'like', 'then', 'more', 'just', 'many', 'only', 'them', 'want', 'used', 'here', 'over', 'very', 'most', 'than', 'good', 'made', 'into', 'back', 'name', 'work', 'city', 'both', 'much', 'make', 'come', 'find', 'came', 'year', 'went', 'town', 'part', 'life', 'must']\n",
      "Words with length 5: ['there', 'about', 'their', 'first', 'after', 'other', 'would', 'these', 'could', 'never', 'going', 'where', 'think', 'still', 'found', 'which', 'known', 'years', 'world', 'asked', 'while', 'again', 'those', 'night', 'often', 'began', 'named', 'water', 'woman', 'small', 'music', 'every', 'under', 'heart', 'young', 'great', 'large', 'thing', 'being', 'money', 'today', 'might', 'group', 'south', 'river', 'north', 'early', 'state', 'since', 'white']\n",
      "Words with length 6: ['people', 'before', 'school', 'little', 'called', 'should', 'during', 'became', 'better', 'always', 'around', 'things', 'desert', 'really', 'please', 'county', 'second', 'looked', 'family', 'number', 'seemed', 'wanted', 'father', 'public', 'become', 'played', 'system', 'within', 'almost', 'street', 'served', 'office', 'united', 'matter', 'friend', 'twenty', 'mother', 'others', 'states', 'person', 'common', 'passed', 'church', 'series', 'across', 'single', 'turned', 'behind', 'course', 'member']\n",
      "Words with length 7: ['thought', 'through', 'however', 'because', 'another', 'several', 'nothing', 'between', 'located', 'without', 'himself', 'station', 'already', 'looking', 'include', 'company', 'morning', 'college', 'playing', 'written', 'against', 'decided', 'village', 'married', 'popular', 'usually', 'hundred', 'believe', 'general', 'started', 'english', 'brought', 'running', 'history', 'service', 'quickly', 'working', 'country', 'outside', 'crystal', 'members', 'talking', 'present', 'brother', 'railway', 'various', 'covered', 'getting', 'wearing', 'problem']\n",
      "Words with length 8: ['anything', 'children', 'language', 'everyone', 'answered', 'national', 'appeared', 'building', 'together', 'returned', 'american', 'treasure', 'business', 'included', 'received', 'merchant', 'movement', 'remember', 'daughter', 'suddenly', 'original', 'released', 'football', 'produced', 'students', 'tomorrow', 'features', 'cylinder', 'standing', 'research', 'possible', 'provided', 'remained', 'distance', 'includes', 'attended', 'happened', 'position', 'computer', 'although', 'probably', 'contains', 'services', 'speaking', 'actually', 'military', 'internet', 'followed', 'thousand', 'thinking']\n",
      "Words with length 9: ['alchemist', 'something', 'different', 'important', 'following', 'sometimes', 'continued', 'currently', 'community', 'available', 'president', 'including', 'difficult', 'generally', 'published', 'described', 'education', 'political', 'developed', 'henderson', 'character', 'direction', 'according', 'buildings', 'beautiful', 'yesterday', 'languages', 'performed', 'afternoon', 'somewhere', 'surprised', 'countries', 'newspaper', 'typically', 'australia', 'therefore', 'everybody', 'beginning', 'certainly', 'telescope', 'structure', 'contained', 'extremely', 'christmas', 'continues', 'primarily', 'attention', 'connected', 'companies', 'increased']\n",
      "Words with length 10: ['everything', 'university', 'englishman', 'understand', 'government', 'throughout', 'considered', 'eventually', 'understood', 'television', 'production', 'california', 'population', 'originally', 'experience', 'themselves', 'especially', 'successful', 'completely', 'appearance', 'department', 'remembered', 'commercial', 'approached', 'difference', 'restaurant', 'characters', 'interested', 'atmosphere', 'collection', 'activities', 'previously', 'particular', 'technology', 'frequently', 'washington', 'associated', 'historical', 'additional', 'impossible', 'management', 'connection', 'apparently', 'individual', 'industrial', 'absolutely', 'introduced', 'increasing', 'expression', 'surrounded']\n",
      "Words with length 11: ['information', 'development', 'immediately', 'independent', 'performance', 'established', 'surrounding', 'traditional', 'instruments', 'significant', 'application', 'responsible', 'programming', 'association', 'temperature', 'competition', 'represented', 'alternative', 'environment', 'communities', 'translation', 'concentrate', 'constructed', 'grandfather', 'engineering', 'interrupted', 'agriculture', 'complicated', 'interesting', 'disappeared', 'transformed', 'residential', 'possibility', 'contributed', 'statistical', 'recommended', 'authorities', 'experienced', 'participate', 'distributed', 'composition', 'corporation', 'combination', 'individuals', 'appearances', 'reservation', 'inhabitants', 'observation', 'controversy', 'connections']\n",
      "Words with length 12: ['professional', 'construction', 'subsequently', 'disappointed', 'particularly', 'conversation', 'headquarters', 'relationship', 'specifically', 'organization', 'difficulties', 'occasionally', 'metropolitan', 'conservative', 'neighborhood', 'contemporary', 'championship', 'distribution', 'pennsylvania', 'municipality', 'independence', 'extinguished', 'agricultural', 'additionally', 'applications', 'unsuccessful', 'intelligence', 'incorporated', 'successfully', 'architecture', 'historically', 'instrumental', 'nevertheless', 'considerable', 'requirements', 'experiencing', 'commercially', 'performances', 'mathematical', 'constitution', 'universities', 'instructions', 'increasingly', 'organisation', 'philadelphia', 'strawberries', 'consequently', 'participated', 'participants', 'registration']\n",
      "TOTAL 500\n",
      "['was', 'and', 'you', 'are', 'his', 'for', 'had', 'not', 'but', 'all', 'boy', 'can', 'him', 'out', 'its', 'the', 'her', 'how', 'man', 'did', 'now', 'she', 'new', 'get', 'who', 'see', 'old', 'day', 'got', 'way', 'why', 'has', 'may', 'too', 'say', 'our', 'use', 'saw', 'men', 'war', 'own', 'let', 'few', 'end', 'red', 'sun', 'put', 'set', 'son', 'air', 'that', 'this', 'have', 'what', 'they', 'from', 'were', 'also', 'said', 'with', 'your', 'will', 'some', 'when', 'time', 'been', 'know', 'like', 'then', 'more', 'just', 'many', 'only', 'them', 'want', 'used', 'here', 'over', 'very', 'most', 'than', 'good', 'made', 'into', 'back', 'name', 'work', 'city', 'both', 'much', 'make', 'come', 'find', 'came', 'year', 'went', 'town', 'part', 'life', 'must', 'there', 'about', 'their', 'first', 'after', 'other', 'would', 'these', 'could', 'never', 'going', 'where', 'think', 'still', 'found', 'which', 'known', 'years', 'world', 'asked', 'while', 'again', 'those', 'night', 'often', 'began', 'named', 'water', 'woman', 'small', 'music', 'every', 'under', 'heart', 'young', 'great', 'large', 'thing', 'being', 'money', 'today', 'might', 'group', 'south', 'river', 'north', 'early', 'state', 'since', 'white', 'people', 'before', 'school', 'little', 'called', 'should', 'during', 'became', 'better', 'always', 'around', 'things', 'desert', 'really', 'please', 'county', 'second', 'looked', 'family', 'number', 'seemed', 'wanted', 'father', 'public', 'become', 'played', 'system', 'within', 'almost', 'street', 'served', 'office', 'united', 'matter', 'friend', 'twenty', 'mother', 'others', 'states', 'person', 'common', 'passed', 'church', 'series', 'across', 'single', 'turned', 'behind', 'course', 'member', 'thought', 'through', 'however', 'because', 'another', 'several', 'nothing', 'between', 'located', 'without', 'himself', 'station', 'already', 'looking', 'include', 'company', 'morning', 'college', 'playing', 'written', 'against', 'decided', 'village', 'married', 'popular', 'usually', 'hundred', 'believe', 'general', 'started', 'english', 'brought', 'running', 'history', 'service', 'quickly', 'working', 'country', 'outside', 'crystal', 'members', 'talking', 'present', 'brother', 'railway', 'various', 'covered', 'getting', 'wearing', 'problem', 'anything', 'children', 'language', 'everyone', 'answered', 'national', 'appeared', 'building', 'together', 'returned', 'american', 'treasure', 'business', 'included', 'received', 'merchant', 'movement', 'remember', 'daughter', 'suddenly', 'original', 'released', 'football', 'produced', 'students', 'tomorrow', 'features', 'cylinder', 'standing', 'research', 'possible', 'provided', 'remained', 'distance', 'includes', 'attended', 'happened', 'position', 'computer', 'although', 'probably', 'contains', 'services', 'speaking', 'actually', 'military', 'internet', 'followed', 'thousand', 'thinking', 'alchemist', 'something', 'different', 'important', 'following', 'sometimes', 'continued', 'currently', 'community', 'available', 'president', 'including', 'difficult', 'generally', 'published', 'described', 'education', 'political', 'developed', 'henderson', 'character', 'direction', 'according', 'buildings', 'beautiful', 'yesterday', 'languages', 'performed', 'afternoon', 'somewhere', 'surprised', 'countries', 'newspaper', 'typically', 'australia', 'therefore', 'everybody', 'beginning', 'certainly', 'telescope', 'structure', 'contained', 'extremely', 'christmas', 'continues', 'primarily', 'attention', 'connected', 'companies', 'increased', 'everything', 'university', 'englishman', 'understand', 'government', 'throughout', 'considered', 'eventually', 'understood', 'television', 'production', 'california', 'population', 'originally', 'experience', 'themselves', 'especially', 'successful', 'completely', 'appearance', 'department', 'remembered', 'commercial', 'approached', 'difference', 'restaurant', 'characters', 'interested', 'atmosphere', 'collection', 'activities', 'previously', 'particular', 'technology', 'frequently', 'washington', 'associated', 'historical', 'additional', 'impossible', 'management', 'connection', 'apparently', 'individual', 'industrial', 'absolutely', 'introduced', 'increasing', 'expression', 'surrounded', 'information', 'development', 'immediately', 'independent', 'performance', 'established', 'surrounding', 'traditional', 'instruments', 'significant', 'application', 'responsible', 'programming', 'association', 'temperature', 'competition', 'represented', 'alternative', 'environment', 'communities', 'translation', 'concentrate', 'constructed', 'grandfather', 'engineering', 'interrupted', 'agriculture', 'complicated', 'interesting', 'disappeared', 'transformed', 'residential', 'possibility', 'contributed', 'statistical', 'recommended', 'authorities', 'experienced', 'participate', 'distributed', 'composition', 'corporation', 'combination', 'individuals', 'appearances', 'reservation', 'inhabitants', 'observation', 'controversy', 'connections', 'professional', 'construction', 'subsequently', 'disappointed', 'particularly', 'conversation', 'headquarters', 'relationship', 'specifically', 'organization', 'difficulties', 'occasionally', 'metropolitan', 'conservative', 'neighborhood', 'contemporary', 'championship', 'distribution', 'pennsylvania', 'municipality', 'independence', 'extinguished', 'agricultural', 'additionally', 'applications', 'unsuccessful', 'intelligence', 'incorporated', 'successfully', 'architecture', 'historically', 'instrumental', 'nevertheless', 'considerable', 'requirements', 'experiencing', 'commercially', 'performances', 'mathematical', 'constitution', 'universities', 'instructions', 'increasingly', 'organisation', 'philadelphia', 'strawberries', 'consequently', 'participated', 'participants', 'registration']\n"
     ]
    }
   ],
   "source": [
    "en_train_candidates_df = en_word_counts[~en_word_counts.index.isin(en_used)].sort_values(\"TRAIN\", ascending=False)\n",
    "mswc_en_train_candidates = list(en_train_candidates_df[en_train_candidates_df[\"TRAIN\"] >= 100].index)\n",
    "\n",
    "word_list = mswc_en_train_candidates\n",
    "word_lengths = [len(word) for word in word_list]\n",
    "\n",
    "selected_words = {}\n",
    "\n",
    "for length in range(3, 13):\n",
    "    words_with_length = [word for word in word_list if len(word) == length]\n",
    "    selected_words[length] = words_with_length[:50]\n",
    "\n",
    "mswc_en_train_500cs_100spc = []\n",
    "\n",
    "for length, words in selected_words.items():\n",
    "    print(f\"Words with length {length}: {words}\")\n",
    "    mswc_en_train_500cs_100spc += words\n",
    "\n",
    "print(f\"TOTAL {len(set(mswc_en_train_500cs_100spc))}\")\n",
    "print(mswc_en_train_500cs_100spc)"
   ]
  },
  {
   "cell_type": "code",
   "execution_count": 184,
   "metadata": {},
   "outputs": [
    {
     "name": "stdout",
     "output_type": "stream",
     "text": [
      "Words with length 3 11: ['was', 'and', 'you', 'are', 'his', 'for', 'had', 'not', 'but', 'all', 'boy']\n",
      "Words with length 4 11: ['that', 'this', 'have', 'what', 'they', 'from', 'were', 'also', 'said', 'with', 'your']\n",
      "Words with length 5 11: ['there', 'about', 'their', 'first', 'after', 'other', 'would', 'these', 'could', 'never', 'going']\n",
      "Words with length 6 11: ['people', 'before', 'school', 'little', 'called', 'should', 'during', 'became', 'better', 'always', 'around']\n",
      "Words with length 7 11: ['thought', 'through', 'however', 'because', 'another', 'several', 'nothing', 'between', 'located', 'without', 'himself']\n",
      "Words with length 8 11: ['anything', 'children', 'language', 'everyone', 'answered', 'national', 'appeared', 'building', 'together', 'returned', 'american']\n",
      "Words with length 9 11: ['alchemist', 'something', 'different', 'important', 'following', 'sometimes', 'continued', 'currently', 'community', 'available', 'president']\n",
      "Words with length 10 11: ['everything', 'university', 'englishman', 'understand', 'government', 'throughout', 'considered', 'eventually', 'understood', 'television', 'production']\n",
      "Words with length 11 11: ['information', 'development', 'immediately', 'independent', 'performance', 'established', 'surrounding', 'traditional', 'instruments', 'significant', 'application']\n",
      "Words with length 12 1: ['professional']\n",
      "TOTAL 100\n",
      "['was', 'and', 'you', 'are', 'his', 'for', 'had', 'not', 'but', 'all', 'boy', 'that', 'this', 'have', 'what', 'they', 'from', 'were', 'also', 'said', 'with', 'your', 'there', 'about', 'their', 'first', 'after', 'other', 'would', 'these', 'could', 'never', 'going', 'people', 'before', 'school', 'little', 'called', 'should', 'during', 'became', 'better', 'always', 'around', 'thought', 'through', 'however', 'because', 'another', 'several', 'nothing', 'between', 'located', 'without', 'himself', 'anything', 'children', 'language', 'everyone', 'answered', 'national', 'appeared', 'building', 'together', 'returned', 'american', 'alchemist', 'something', 'different', 'important', 'following', 'sometimes', 'continued', 'currently', 'community', 'available', 'president', 'everything', 'university', 'englishman', 'understand', 'government', 'throughout', 'considered', 'eventually', 'understood', 'television', 'production', 'information', 'development', 'immediately', 'independent', 'performance', 'established', 'surrounding', 'traditional', 'instruments', 'significant', 'application', 'professional']\n"
     ]
    }
   ],
   "source": [
    "en_train_candidates_df = en_word_counts[~en_word_counts.index.isin(en_used)].sort_values(\"TRAIN\", ascending=False)\n",
    "mswc_en_train_candidates = list(en_train_candidates_df[en_train_candidates_df[\"TRAIN\"] >= 500].index)\n",
    "\n",
    "word_list = mswc_en_train_candidates\n",
    "word_lengths = [len(word) for word in word_list]\n",
    "\n",
    "selected_words = {}\n",
    "target_words_count = 100\n",
    "selected_words_count = 0\n",
    "\n",
    "for length in range(3, 13):\n",
    "    words_with_length = [word for word in word_list if len(word) == length]\n",
    "    if target_words_count - selected_words_count < 11:\n",
    "        selected_words[length] = words_with_length[:(target_words_count - selected_words_count)]\n",
    "    else:\n",
    "        selected_words[length] = words_with_length[:11]\n",
    "\n",
    "    selected_words_count += len(selected_words[length])\n",
    "\n",
    "mswc_en_train_100cs_500spc = []\n",
    "\n",
    "for length, words in selected_words.items():\n",
    "    print(f\"Words with length {length} {len(words)}: {words}\")\n",
    "    mswc_en_train_100cs_500spc += words\n",
    "\n",
    "print(f\"TOTAL {len(set(mswc_en_train_100cs_500spc))}\")\n",
    "print(mswc_en_train_100cs_500spc)"
   ]
  },
  {
   "cell_type": "code",
   "execution_count": 151,
   "metadata": {},
   "outputs": [
    {
     "data": {
      "text/plain": [
       "['международного',\n",
       " 'представитель',\n",
       " 'безопасности',\n",
       " 'объединенных',\n",
       " 'конференции',\n",
       " 'организации',\n",
       " 'разоружению',\n",
       " 'необходимо',\n",
       " 'государств',\n",
       " 'благодарю',\n",
       " 'резолюции',\n",
       " 'заявление',\n",
       " 'является',\n",
       " 'человека',\n",
       " 'поэтому',\n",
       " 'сегодня',\n",
       " 'которые',\n",
       " 'должны',\n",
       " 'сейчас',\n",
       " 'однако',\n",
       " 'усилия',\n",
       " 'совета',\n",
       " 'теперь',\n",
       " 'только',\n",
       " 'работы',\n",
       " 'страны',\n",
       " 'также',\n",
       " 'слово',\n",
       " 'этого',\n",
       " 'будет',\n",
       " 'имеет',\n",
       " 'наций',\n",
       " 'чтобы',\n",
       " 'очень',\n",
       " 'хотел',\n",
       " 'может',\n",
       " 'время',\n",
       " 'более',\n",
       " 'нашей',\n",
       " 'этой',\n",
       " 'этом',\n",
       " 'этот',\n",
       " 'было',\n",
       " 'быть',\n",
       " 'всех',\n",
       " 'того',\n",
       " 'этих',\n",
       " 'мира',\n",
       " 'есть',\n",
       " 'наша']"
      ]
     },
     "execution_count": 151,
     "metadata": {},
     "output_type": "execute_result"
    }
   ],
   "source": [
    "mswc_en_train_candidates = list(en_word_counts[~en_word_counts.index.isin(en_used)].sort_values(\"TRAIN\", ascending=False).head(73).index)\n",
    "sorted(mswc_en_train_candidates, key=len, reverse=True)[:50]"
   ]
  },
  {
   "cell_type": "code",
   "execution_count": 13,
   "metadata": {},
   "outputs": [
    {
     "name": "stdout",
     "output_type": "stream",
     "text": [
      "RU_TRAIN_50CS_500SPC min sapmles per class available: 504\n",
      "RU_VALID_50CS_500SPC min sapmles per class available: 61\n",
      "RU_TEST_50CS_500SPC min sapmles per class available: 64\n",
      "\n",
      "EN_TRAIN_100CS_500SPC min sapmles per class available: 533\n",
      "EN_VALID_100CS_500SPC min sapmles per class available: 67\n",
      "EN_TEST_100CS_500SPC min sapmles per class available: 67\n",
      "\n",
      "EN_TRAIN_500CS_100SPC min sapmles per class available: 157\n",
      "EN_VALID_500CS_100SPC min sapmles per class available: 20\n",
      "EN_TEST_500CS_100SPC min sapmles per class available: 20\n"
     ]
    }
   ],
   "source": [
    "print(f\"RU_TRAIN_50CS_500SPC min sapmles per class available: {ru_word_counts.loc[MSWC_RU_TRAIN_50CS_500SPC_CLASSES]['TRAIN'].min()}\")\n",
    "print(f\"RU_VALID_50CS_500SPC min sapmles per class available: {ru_word_counts.loc[MSWC_RU_TRAIN_50CS_500SPC_CLASSES]['DEV'].min()}\")\n",
    "print(f\"RU_TEST_50CS_500SPC min sapmles per class available: {ru_word_counts.loc[MSWC_RU_TRAIN_50CS_500SPC_CLASSES]['TEST'].min()}\")\n",
    "print()\n",
    "\n",
    "print(f\"EN_TRAIN_100CS_500SPC min sapmles per class available: {en_word_counts.loc[MSWC_EN_TRAIN_100CS_500SPC_CLASSES]['TRAIN'].min()}\")\n",
    "print(f\"EN_VALID_100CS_500SPC min sapmles per class available: {en_word_counts.loc[MSWC_EN_TRAIN_100CS_500SPC_CLASSES]['DEV'].min()}\")\n",
    "print(f\"EN_TEST_100CS_500SPC min sapmles per class available: {en_word_counts.loc[MSWC_EN_TRAIN_100CS_500SPC_CLASSES]['TEST'].min()}\")\n",
    "print()\n",
    "\n",
    "print(f\"EN_TRAIN_500CS_100SPC min sapmles per class available: {en_word_counts.loc[MSWC_EN_TRAIN_500CS_100SPC_CLASSES]['TRAIN'].min()}\")\n",
    "print(f\"EN_VALID_500CS_100SPC min sapmles per class available: {en_word_counts.loc[MSWC_EN_TRAIN_500CS_100SPC_CLASSES]['DEV'].min()}\")\n",
    "print(f\"EN_TEST_500CS_100SPC min sapmles per class available: {en_word_counts.loc[MSWC_EN_TRAIN_500CS_100SPC_CLASSES]['TEST'].min()}\")\n"
   ]
  }
 ],
 "metadata": {
  "kernelspec": {
   "display_name": ".venv",
   "language": "python",
   "name": "python3"
  },
  "language_info": {
   "codemirror_mode": {
    "name": "ipython",
    "version": 3
   },
   "file_extension": ".py",
   "mimetype": "text/x-python",
   "name": "python",
   "nbconvert_exporter": "python",
   "pygments_lexer": "ipython3",
   "version": "3.10.12"
  }
 },
 "nbformat": 4,
 "nbformat_minor": 2
}
